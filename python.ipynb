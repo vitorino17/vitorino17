{
  "nbformat": 4,
  "nbformat_minor": 0,
  "metadata": {
    "colab": {
      "provenance": [],
      "authorship_tag": "ABX9TyPK/Ijh1werCJhgfhDBNNQJ",
      "include_colab_link": true
    },
    "kernelspec": {
      "name": "python3",
      "display_name": "Python 3"
    },
    "language_info": {
      "name": "python"
    }
  },
  "cells": [
    {
      "cell_type": "markdown",
      "metadata": {
        "id": "view-in-github",
        "colab_type": "text"
      },
      "source": [
        "<a href=\"https://colab.research.google.com/github/vitorino17/vitorino17/blob/main/python.ipynb\" target=\"_parent\"><img src=\"https://colab.research.google.com/assets/colab-badge.svg\" alt=\"Open In Colab\"/></a>"
      ]
    },
    {
      "cell_type": "markdown",
      "source": [
        "ATIVIDADES PYTHON"
      ],
      "metadata": {
        "id": "bD91eFfhIt_P"
      }
    },
    {
      "cell_type": "markdown",
      "source": [
        "\n",
        "ATIVIDADE 6- Escreva um programa em Python que solicite ao usuário para inserir seu nome. O programa deve exibir uma mensagem de boas-vindas personalizada, incluindo o nome inserido pelo usuário."
      ],
      "metadata": {
        "id": "Q448smCgIkx5"
      }
    },
    {
      "cell_type": "code",
      "source": [
        "\n",
        "nome= input(\"Por favor, insira seu nome:\")\n",
        "\n",
        "print(f\"Bem-vindo(a), {nome}!\")\n"
      ],
      "metadata": {
        "id": "RXKxo0yFSW03",
        "colab": {
          "base_uri": "https://localhost:8080/"
        },
        "outputId": "8ae1e537-6e60-420f-8f78-00684bafdd89"
      },
      "execution_count": null,
      "outputs": [
        {
          "output_type": "stream",
          "name": "stdout",
          "text": [
            "Por favor, insira seu nome:Guilherme\n",
            "Bem-vindo(a), Guilherme!\n"
          ]
        }
      ]
    },
    {
      "cell_type": "markdown",
      "source": [
        "ATIVIDADE 5- Crie um programa que realize a média de dois números"
      ],
      "metadata": {
        "id": "7id9KJA7Saq2"
      }
    },
    {
      "cell_type": "code",
      "source": [
        "#calcular média de dois números\n",
        "\n",
        "def media(num1, num2):\n",
        "    return(num1 + num2) / 2\n",
        "\n",
        "n1=float(input(\"digite o primeiro número:\"))\n",
        "n2=float(input(\"digite o segundo número:\"))\n",
        "\n",
        "resultado_media= media(n1,n2)\n",
        "\n",
        "print(f\"a média dos números {n1} e {n2} é: {resultado_media}\")"
      ],
      "metadata": {
        "id": "Zs2ZeFuZSlnu",
        "colab": {
          "base_uri": "https://localhost:8080/"
        },
        "outputId": "ef19f1e0-c086-4adb-b40d-b970dbf13436"
      },
      "execution_count": null,
      "outputs": [
        {
          "output_type": "stream",
          "name": "stdout",
          "text": [
            "digite o primeiro número:10\n",
            "digite o segundo número:6\n",
            "a média dos números 10.0 e 6.0 é: 8.0\n"
          ]
        }
      ]
    },
    {
      "cell_type": "markdown",
      "source": [
        "ATIVIDADE 4- Escreva um programa que calcule a subtração de dois números. Após a execução do programa, faça um fluxograma representando as etapas do programa, desde a entrada dos dois números até a impressão do resultado da subtração.\""
      ],
      "metadata": {
        "id": "Onm2MMuWSmaQ"
      }
    },
    {
      "cell_type": "code",
      "source": [
        "n1=10\n",
        "n2=5\n",
        "\n",
        "print(\"a subtração desses dois números é:\")\n",
        "print(n1 - n2)"
      ],
      "metadata": {
        "id": "Dl2rdlJDSsXu",
        "colab": {
          "base_uri": "https://localhost:8080/"
        },
        "outputId": "37611e5c-3200-4bdb-b198-fd76371ae806"
      },
      "execution_count": null,
      "outputs": [
        {
          "output_type": "stream",
          "name": "stdout",
          "text": [
            "a subtração desses dois números é:\n",
            "5\n"
          ]
        }
      ]
    },
    {
      "cell_type": "markdown",
      "source": [
        "ATIVIDADE 3- Escreva um programa que calcule a divisão de dois números. Após a execução do programa, faça um fluxograma representando as etapas do programa, desde a entrada dos dois números até a impressão do resultado da divisão.\""
      ],
      "metadata": {
        "id": "gnFVN-54SwSO"
      }
    },
    {
      "cell_type": "code",
      "source": [
        "num1= 6\n",
        "num2= 3\n",
        "\n",
        "print(\"a divisão desses dois números é:\")\n",
        "print(6/3)"
      ],
      "metadata": {
        "id": "oH23e9tdS0ym",
        "colab": {
          "base_uri": "https://localhost:8080/"
        },
        "outputId": "85f87fcc-575c-4380-a435-7b8c89dc4118"
      },
      "execution_count": null,
      "outputs": [
        {
          "output_type": "stream",
          "name": "stdout",
          "text": [
            "a divisão desses dois números é:\n",
            "2.0\n"
          ]
        }
      ]
    },
    {
      "cell_type": "markdown",
      "source": [
        "ATIVIDADE 2- Escreva um programa que calcule a multiplicação de dois números. Após a execução do programa, faça um fluxograma representando as etapas do programa, desde a entrada dos dois números até a impressão do resultado da multiplicação.\""
      ],
      "metadata": {
        "id": "FsnHysUGS30R"
      }
    },
    {
      "cell_type": "code",
      "source": [
        "n1=2\n",
        "n2=3\n",
        "print(\"a multiplicação desses dois números é:\")\n",
        "print(2*3)"
      ],
      "metadata": {
        "id": "7IJ_Qd0XS6oQ",
        "colab": {
          "base_uri": "https://localhost:8080/"
        },
        "outputId": "59fe7ee7-6e71-4fec-9d8c-766945966bb0"
      },
      "execution_count": null,
      "outputs": [
        {
          "output_type": "stream",
          "name": "stdout",
          "text": [
            "a multiplicação desses dois números é:\n",
            "6\n"
          ]
        }
      ]
    },
    {
      "cell_type": "markdown",
      "source": [
        "ATIVIDADE 1- Escreva um programa que calcule a soma de dois números.Após a execução do programa, faça um fluxograma representando as etapas do programa, desde a entrada dos dois números até a impressão do resultado da soma.\""
      ],
      "metadata": {
        "id": "UZtp5_z8S-kG"
      }
    },
    {
      "cell_type": "code",
      "source": [
        "#print(\"Olá, mundo\")\n",
        "\n",
        "n1=2\n",
        "n2=1\n",
        "print(\"a soma desses números é:\")\n",
        "print(2+1)\n"
      ],
      "metadata": {
        "id": "A8m-kB7kTCH-",
        "colab": {
          "base_uri": "https://localhost:8080/"
        },
        "outputId": "12bcce74-441d-45f4-d50a-abd2111018c2"
      },
      "execution_count": null,
      "outputs": [
        {
          "output_type": "stream",
          "name": "stdout",
          "text": [
            "a soma desses números é:\n",
            "3\n"
          ]
        }
      ]
    },
    {
      "cell_type": "markdown",
      "source": [
        "ATIVIDADE 8 - Escreva um programa em Python que peça ao usuário para inserir 4 números e mostrar a média deles. Em seguida, exiba o resultado da divisão.\n"
      ],
      "metadata": {
        "id": "29L_zY4WUCvO"
      }
    },
    {
      "cell_type": "code",
      "source": [
        "def calcular_media_e_divisao():\n",
        "    try:\n",
        "        # Solicita ao usuário para inserir 4 números\n",
        "        numeros = []\n",
        "        for i in range(1, 5):\n",
        "            numero = float(input(f\"Digite o {i}º número: \"))\n",
        "            numeros.append(numero)\n",
        "\n",
        "        # Calcula a soma e a média dos números\n",
        "        soma = sum(numeros)\n",
        "        media = soma / len(numeros)\n",
        "\n",
        "        # Exibe a média\n",
        "        print(f\"A média dos números é: {media:.2f}\")\n",
        "\n",
        "        # Calcula e exibe o resultado da divisão da soma pela média\n",
        "        if media != 0:\n",
        "            resultado_divisao = soma / media\n",
        "            print(f\"O resultado da divisão da soma ({soma:.2f}) pela média ({media:.2f}) é: {resultado_divisao:.2f}\")\n",
        "        else:\n",
        "            print(\"Não é possível dividir por zero.\")\n",
        "\n",
        "    except ValueError:\n",
        "        print(\"Entrada inválida. Por favor, insira números válidos.\")\n",
        "\n",
        "if __name__ == \"__main__\":\n",
        "    calcular_media_e_divisao()\n"
      ],
      "metadata": {
        "id": "pEH-q6KKUFem",
        "colab": {
          "base_uri": "https://localhost:8080/"
        },
        "outputId": "4ec0771f-65cf-4171-f644-7285056c49b6"
      },
      "execution_count": null,
      "outputs": [
        {
          "output_type": "stream",
          "name": "stdout",
          "text": [
            "Digite o 1º número: 50\n",
            "Digite o 2º número: 100\n",
            "Digite o 3º número: 250\n",
            "Digite o 4º número: 1000\n",
            "A média dos números é: 350.00\n",
            "O resultado da divisão da soma (1400.00) pela média (350.00) é: 4.00\n"
          ]
        }
      ]
    },
    {
      "cell_type": "markdown",
      "source": [
        "ATIVIDADE 7 - Escreva um programa em Python que peça ao usuário para inserir dois números e calcule a divisão do primeiro número pelo segundo número. Certifique-se de verificar se o segundo número não é zero antes de realizar a divisão. Em seguida, exiba o resultado da divisão.\n",
        "Comentários da turma"
      ],
      "metadata": {
        "id": "3E0pfMUfc41t"
      }
    },
    {
      "cell_type": "code",
      "source": [
        "def calcular_divisao():\n",
        "    try:\n",
        "\n",
        "        primeiro_numero = float(input(\"Digite o primeiro número: \"))\n",
        "        segundo_numero = float(input(\"Digite o segundo número: \"))\n",
        "\n",
        "        if segundo_numero == 0:\n",
        "            print(\"Erro: Divisão por zero não é permitida.\")\n",
        "        else:\n",
        "\n",
        "            resultado = primeiro_numero / segundo_numero\n",
        "\n",
        "            print(f\"O resultado da divisão de {primeiro_numero} por {segundo_numero} é {resultado:.2f}\")\n",
        "\n",
        "    except ValueError:\n",
        "        print(\"Entrada inválida. Por favor, insira números válidos.\")\n",
        "\n",
        "if __name__ == \"__main__\":\n",
        "    calcular_divisao()\n"
      ],
      "metadata": {
        "id": "bPTgzhvvc_bZ",
        "colab": {
          "base_uri": "https://localhost:8080/"
        },
        "outputId": "1b695768-9fd3-4630-da64-ef7dd8656cc8"
      },
      "execution_count": null,
      "outputs": [
        {
          "output_type": "stream",
          "name": "stdout",
          "text": [
            "Digite o primeiro número: 20\n",
            "Digite o segundo número: 30\n",
            "O resultado da divisão de 20.0 por 30.0 é 0.67\n"
          ]
        }
      ]
    },
    {
      "cell_type": "markdown",
      "source": [
        "ATIVIDADE 9- Escreva um programa em Python que peça ao usuário para inserir dois números e calcule a soma desses números. Em seguida, exiba o resultado da soma."
      ],
      "metadata": {
        "id": "hKmr-z9SlwfP"
      }
    },
    {
      "cell_type": "code",
      "source": [
        "def soma(n1,n2):\n",
        "    return(n1+n2)\n",
        "\n",
        "n1=float(input(\"informe o primeiro número:\"))\n",
        "n2=float(input(\"informe o segundo número:\"))\n",
        "\n",
        "resultado= soma(n1,n2)\n",
        "\n",
        "print(f\"O resultado da soma {n1} e {n2} é: {resultado}\")\n"
      ],
      "metadata": {
        "id": "SwnyBCi2l1Il",
        "colab": {
          "base_uri": "https://localhost:8080/"
        },
        "outputId": "836efe59-1d99-43e6-c4f3-ce572d61883d"
      },
      "execution_count": null,
      "outputs": [
        {
          "output_type": "stream",
          "name": "stdout",
          "text": [
            "informe o primeiro número:60\n",
            "informe o segundo número:150\n",
            "O resultado da soma 60.0 e 150.0 é: 210.0\n"
          ]
        }
      ]
    },
    {
      "cell_type": "markdown",
      "source": [
        "ATIVIDADE 10- Escreva um programa em Python que peça ao usuário para inserir dois números e calcule a subtração do segundo número pelo primeiro. Em seguida, exiba o resultado da subtração."
      ],
      "metadata": {
        "id": "PvH_xxA8nF2-"
      }
    },
    {
      "cell_type": "code",
      "source": [
        "def subtração(n1,n2):\n",
        "    return(n1-n2)\n",
        "\n",
        "n1=float(input(\"informe o primeiro número:\"))\n",
        "n2=float(input(\"informe o segundo número:\"))\n",
        "\n",
        "resultado=subtração(n1,n2)\n",
        "\n",
        "print(f\"o resultado da subtração {n1} e {n2} é:\",resultado)\n",
        "\n"
      ],
      "metadata": {
        "id": "R4trXgfTnIOQ",
        "colab": {
          "base_uri": "https://localhost:8080/"
        },
        "outputId": "10c0b074-a9a5-42cd-be7c-69fcb9498b8b"
      },
      "execution_count": null,
      "outputs": [
        {
          "output_type": "stream",
          "name": "stdout",
          "text": [
            "informe o primeiro número:50\n",
            "informe o segundo número:23\n",
            "o resultado da subtração 50.0 e 23.0 é: 27.0\n"
          ]
        }
      ]
    },
    {
      "cell_type": "markdown",
      "source": [
        "ATIVIDADE 11- Escreva um programa em Python que peça ao usuário para inserir dois números reais e calcule o produto desses números. Em seguida, exiba o resultado da multiplicação."
      ],
      "metadata": {
        "id": "YCnBTH5epdLg"
      }
    },
    {
      "cell_type": "code",
      "source": [
        "\n",
        "def multiplicação(n1,n2):\n",
        "    return(n1*n2)\n",
        "\n",
        "n1=float(input(\"informe um número real:\"))\n",
        "n2=float(input(\"informe outro número real:\"))\n",
        "\n",
        "resultado=multiplicação(n1,n2)\n",
        "\n",
        "print(f\"o resultado da multiplicação dos {n1} e {n2} números reais é:\",resultado)\n"
      ],
      "metadata": {
        "id": "00zk5hthpiBY",
        "colab": {
          "base_uri": "https://localhost:8080/"
        },
        "outputId": "f7882e38-bb36-47d6-8295-e645fc91f011"
      },
      "execution_count": null,
      "outputs": [
        {
          "output_type": "stream",
          "name": "stdout",
          "text": [
            "informe um número real:10\n",
            "informe outro número real:5\n",
            "o resultado da multiplicação dos 10.0 e 5.0 números reais é: 50.0\n"
          ]
        }
      ]
    },
    {
      "cell_type": "markdown",
      "source": [
        "ATIVIDADE 12-\n",
        "1 - Dada a string \"Python\", imprima o primeiro caractere.\n",
        "2 - Dada a string \"Hello, World!\", imprima o caractere \"W\".\n",
        "3 - Dada a string \"Data Science\", imprima os três primeiros caracteres.\n",
        "4 - Dada a string \"Machine Learning\", imprima os três últimos caracteres."
      ],
      "metadata": {
        "id": "znjr-PzuTLGQ"
      }
    },
    {
      "cell_type": "code",
      "source": [
        "n1=\"Python\"\n",
        "print(n1[0])\n",
        "\n",
        "n2=\"Hello, world!\"\n",
        "print(n2[7])\n",
        "\n",
        "n3=\"Data Science\"\n",
        "print(n3[0:3])\n",
        "\n",
        "n4=\"Machine Learning\"\n",
        "print(n4[13:16])"
      ],
      "metadata": {
        "colab": {
          "base_uri": "https://localhost:8080/"
        },
        "id": "H7vLS7e3TOjv",
        "outputId": "7af57843-a265-4abb-e39c-c79e87d89138"
      },
      "execution_count": null,
      "outputs": [
        {
          "output_type": "stream",
          "name": "stdout",
          "text": [
            "P\n",
            "w\n",
            "Dat\n",
            "ing\n"
          ]
        }
      ]
    },
    {
      "cell_type": "markdown",
      "source": [
        "ATIVIDADE 13- Dada a string \"Artificial Intelligence\", imprima os caracteres nos índices ímpares.*texto em itálico*"
      ],
      "metadata": {
        "id": "KoPoLTn2XxN_"
      }
    },
    {
      "cell_type": "code",
      "source": [
        "nome= \"Artificial Intelligence\"\n",
        "print(nome[0::2])"
      ],
      "metadata": {
        "colab": {
          "base_uri": "https://localhost:8080/"
        },
        "id": "8nrgpFMdX3sP",
        "outputId": "cfbba6db-9225-4e96-ea28-0469c998c31c"
      },
      "execution_count": null,
      "outputs": [
        {
          "output_type": "stream",
          "name": "stdout",
          "text": [
            "Atfca nelgne\n"
          ]
        }
      ]
    },
    {
      "cell_type": "markdown",
      "source": [
        "ATIVIDADE 14- Dada a string \"Artificial Intelligence\", imprima os caracteres nos índices pares."
      ],
      "metadata": {
        "id": "52eB8a-YZ71m"
      }
    },
    {
      "cell_type": "code",
      "source": [
        "nome= \"Artificial Intelligence\"\n",
        "print(nome[1::2])"
      ],
      "metadata": {
        "colab": {
          "base_uri": "https://localhost:8080/"
        },
        "id": "Zsmu4-NYcRZ3",
        "outputId": "497665b5-b2fc-4ef7-a473-dc280d12f6e6"
      },
      "execution_count": null,
      "outputs": [
        {
          "output_type": "stream",
          "name": "stdout",
          "text": [
            "riiilItliec\n"
          ]
        }
      ]
    },
    {
      "cell_type": "markdown",
      "source": [
        "ATIVIDADE 15- Escreva um programa em Python com a variável frase \"Python é incrível!\" e imprime a mesma frase invertida."
      ],
      "metadata": {
        "id": "ZZqMhvqecSGX"
      }
    },
    {
      "cell_type": "code",
      "source": [
        "frase=\"Python é incrível!\"\n",
        "print(frase)\n",
        "print(frase[::-1])"
      ],
      "metadata": {
        "colab": {
          "base_uri": "https://localhost:8080/"
        },
        "id": "BA0nqcxKdRSP",
        "outputId": "09cea455-c02d-4608-bc1e-d12209ceb106"
      },
      "execution_count": null,
      "outputs": [
        {
          "output_type": "stream",
          "name": "stdout",
          "text": [
            "Python é incrível!\n",
            "!levírcni é nohtyP\n"
          ]
        }
      ]
    },
    {
      "cell_type": "markdown",
      "source": [
        "atividade 16- Escreva um programa em Python que utilize a variável texto= \"Olá mundo!\" e imprima o texto em letras maiúsculas."
      ],
      "metadata": {
        "id": "1IfQ6Tr4dV74"
      }
    },
    {
      "cell_type": "code",
      "source": [
        "texto=\"olá mundo!\"\n",
        "print(texto.upper())"
      ],
      "metadata": {
        "colab": {
          "base_uri": "https://localhost:8080/"
        },
        "id": "Un9Mi-oItN66",
        "outputId": "7f8c40bf-9e47-4951-faac-676560a0eed1"
      },
      "execution_count": null,
      "outputs": [
        {
          "output_type": "stream",
          "name": "stdout",
          "text": [
            "OLÁ MUNDO!\n"
          ]
        }
      ]
    },
    {
      "cell_type": "markdown",
      "source": [
        "  ATIVIDADE 17- Escreva um programa em Python que utilize a variável texto= \"Olá mundo!\" e imprima o texto em letras minúsculas."
      ],
      "metadata": {
        "id": "Kp8BL_fLyqZR"
      }
    },
    {
      "cell_type": "code",
      "source": [
        "texto= \"OLÁ, MUNDO!\"\n",
        "print(texto.lower())"
      ],
      "metadata": {
        "colab": {
          "base_uri": "https://localhost:8080/"
        },
        "id": "SLYcbsaaywMT",
        "outputId": "62ab72ed-1431-4e1b-b040-a2f85ec089da"
      },
      "execution_count": null,
      "outputs": [
        {
          "output_type": "stream",
          "name": "stdout",
          "text": [
            "olá, mundo!\n"
          ]
        }
      ]
    },
    {
      "cell_type": "markdown",
      "source": [
        "ATIVIDADE 18- Escreva um programa em Python que utilize a variável texto= \"olá mundo!\" e imprima a primeira letra do texto em maiúscula."
      ],
      "metadata": {
        "id": "mspqZdE-1hzQ"
      }
    },
    {
      "cell_type": "code",
      "source": [
        "texto=\"olá,mundo\"\n",
        "print(texto.capitalize())"
      ],
      "metadata": {
        "id": "Q20zMlDv1keO"
      },
      "execution_count": null,
      "outputs": []
    },
    {
      "cell_type": "markdown",
      "source": [
        "ATIVIDADE 19- Escreva um programa em Python que remove os espaços em branco do início e do final de uma variável frase =\n",
        "\n",
        " \" Hoje a noite está ótima \" ."
      ],
      "metadata": {
        "id": "UuZgliSw2wGH"
      }
    },
    {
      "cell_type": "code",
      "source": [
        "frase =\" Hoje a noite está ótima \"\n",
        "print(frase.strip())"
      ],
      "metadata": {
        "colab": {
          "base_uri": "https://localhost:8080/"
        },
        "id": "2TPRPTdY2y2P",
        "outputId": "d38198ff-740c-46a1-8985-88b4b409a547"
      },
      "execution_count": null,
      "outputs": [
        {
          "output_type": "stream",
          "name": "stdout",
          "text": [
            "Hoje a noite está ótima\n"
          ]
        }
      ]
    },
    {
      "cell_type": "markdown",
      "source": [
        "ATIVIDADE 20-screva um programa em Python que realize as seguintes operações em uma frase pré-definida:\n",
        "A frase fornecida é: \" O dia está bom, mas o tempo está chuvoso. \"\n",
        "Remova quaisquer espaços em branco extras no início e no final da frase.\n",
        "Substitua todas as ocorrências da palavra \"bom\" por \"ótimo\"."
      ],
      "metadata": {
        "id": "tQaw9iv4485I"
      }
    },
    {
      "cell_type": "code",
      "source": [
        "frase=\" O dia está bom, mas o tempo está chuvoso. \"\n",
        "print(frase.strip())\n",
        "\n",
        "frase_substituida=frase.replace(\"bom\",\"ótimo\")\n",
        "print(frase_substituida.strip())\n"
      ],
      "metadata": {
        "id": "6eiou9uK5BYi",
        "colab": {
          "base_uri": "https://localhost:8080/"
        },
        "outputId": "5ddfea85-a6e9-472a-bd27-0b1c0c8a6d7c"
      },
      "execution_count": null,
      "outputs": [
        {
          "output_type": "stream",
          "name": "stdout",
          "text": [
            "O dia está bom, mas o tempo está chuvoso.\n",
            "O dia está ótimo, mas o tempo está chuvoso.\n"
          ]
        }
      ]
    },
    {
      "cell_type": "markdown",
      "source": [
        "ATIVIDADE 21- Você vai escrever um programa em Python que solicita ao usuário que insira uma frase. Em seguida, o programa irá remover todos os espaços entre as palavras da frase e exibir a nova frase sem espaços."
      ],
      "metadata": {
        "id": "CTeHbV4BfXtl"
      }
    },
    {
      "cell_type": "code",
      "source": [
        "frase=\" Estou fazendo curso. \"\n",
        "print(frase.strip())"
      ],
      "metadata": {
        "colab": {
          "base_uri": "https://localhost:8080/"
        },
        "id": "2Zi8XTutgGaE",
        "outputId": "e9aba4cd-c635-472c-9226-bdf2e9a496e3"
      },
      "execution_count": null,
      "outputs": [
        {
          "output_type": "stream",
          "name": "stdout",
          "text": [
            "Estou fazendo curso.\n"
          ]
        }
      ]
    },
    {
      "cell_type": "markdown",
      "source": [
        "ATIVIDADE 22-Elabore um programa em Python que conte quantas vezes a linguagem de programação \"Python\" ocorre em uma lista de linguagens.\n",
        "Instruções:\n",
        "linguagens = [\"Python\", \"Java\", \"C#\", \"C++\", \"Python\" , \"PHP\", \"Python\"]\n",
        "Utilize o método count() para contar quantas vezes a linguagem \"Python\" aparece na lista.\n",
        "              x = linguagens.count(\"Python\")\n",
        "Imprima o resultado da contagem"
      ],
      "metadata": {
        "id": "wmlZ96aJffx8"
      }
    },
    {
      "cell_type": "code",
      "source": [
        "linguagens = [\"Python\", \"Java\", \"C#\", \"C++\", \"Python\" , \"PHP\", \"Python\"]\n",
        "print(linguagens.count(\"Python\"))"
      ],
      "metadata": {
        "colab": {
          "base_uri": "https://localhost:8080/"
        },
        "id": "HFxfDTsHfjrj",
        "outputId": "8e61c414-eb4d-4be4-9897-e2374b13db88"
      },
      "execution_count": null,
      "outputs": [
        {
          "output_type": "stream",
          "name": "stdout",
          "text": [
            "3\n"
          ]
        }
      ]
    },
    {
      "cell_type": "markdown",
      "source": [
        "ATIVIDADE 23- Escreva um programa em Python que solicite ao usuário informações sobre uma data (dia, mês e ano) e utilize o parâmetro sep na função print() para imprimir a data no formato \"DD/MM/AAAA\".\n",
        "Dia = 10\n",
        "Mês = 5\n",
        "Ano = 2014\n",
        "Exemplo\n",
        "print(a , b , c ,sep='-')"
      ],
      "metadata": {
        "id": "dYiVMudti4Yk"
      }
    },
    {
      "cell_type": "code",
      "source": [
        "escreva=\"informe uma data\"\n",
        "print(escreva)\n",
        "\n",
        "dia=int(input(\"informe um dia:\"))\n",
        "mes=int(input(\"informe um mes:\"))\n",
        "ano=int(input(\"informe um ano :\"))\n",
        "\n",
        "print(dia,mes,ano,sep='/')"
      ],
      "metadata": {
        "colab": {
          "base_uri": "https://localhost:8080/"
        },
        "id": "0ai-N9dQi8EG",
        "outputId": "97dd69b4-ae00-4792-8daa-04a006d5495f"
      },
      "execution_count": null,
      "outputs": [
        {
          "output_type": "stream",
          "name": "stdout",
          "text": [
            "informe uma data\n",
            "informe um dia:27\n",
            "informe um mes:12\n",
            "informe um ano :2020\n",
            "27/12/2020\n"
          ]
        }
      ]
    },
    {
      "cell_type": "markdown",
      "source": [
        "ATIVIDADE 24- Escreva um programa em Python que use o parâmetro sep na função print() para imprimir o nome, idade e altura de uma pessoa separados por um hífen."
      ],
      "metadata": {
        "id": "0M6e0YR4m5sE"
      }
    },
    {
      "cell_type": "code",
      "source": [
        "escreva=\"informe os seus dados\"\n",
        "print(escreva)\n",
        "\n",
        "nome=(input(\"informe seu nome:\"))\n",
        "idade=int(input(\"informe sua idade:\"))\n",
        "altura=float(input(\"informe sua altura:\").replace(\",\",\".\"))\n",
        "\n",
        "print(nome,idade,altura,sep='-')"
      ],
      "metadata": {
        "colab": {
          "base_uri": "https://localhost:8080/"
        },
        "id": "99uB_9uQm8DW",
        "outputId": "0ff0cedf-b9d5-4ce5-b28e-d7f840c8b522"
      },
      "execution_count": null,
      "outputs": [
        {
          "output_type": "stream",
          "name": "stdout",
          "text": [
            "informe os seus dados\n",
            "informe seu nome:Guilherme\n",
            "informe sua idade:17\n",
            "informe sua altura:1,77\n",
            "Guilherme-17-1.77\n"
          ]
        }
      ]
    },
    {
      "cell_type": "markdown",
      "source": [
        "  ATIVIDADE 25- 1 - Crie um programa em Python que aceite uma TUPLA de linguagens de programação e as junte em uma única String separada por hífens, verificar o tipo da variável antes e após a operação:\n",
        "\n",
        "        # Tupla -  É uma sequência de valores ordenados e imutáveis\n",
        "        tupla= \"Python\", \"Java\", \"C#\", \"C++\", \"PHP\"\n",
        "\n",
        "2 - Crie um programa em Python que aceite uma Lista de linguagens de programação e as junte em uma  String separada por hífens, verificar o tipo da variável antes e após a operação:\n",
        "\n",
        "        # Lista -  É uma sequência de valores ordenados e mutáveis\n",
        "         lista= [\"Python\", \"Java\", \"C#\", \"C++\", \"PHP\"]\n"
      ],
      "metadata": {
        "id": "Jo4-NTS0w6LD"
      }
    },
    {
      "cell_type": "code",
      "source": [
        "lista=(\"Python\", \"Java\", \"C#\", \"C++\", \"PHP\")\n",
        "tupla=\"Python\", \"Java\", \"C#\", \"C++\", \"PHP\"\n",
        "\n",
        "y = \"-\".join(lista)\n",
        "x= \"-\".join(tupla)\n",
        "\n",
        "print(type(lista))\n",
        "print(type(tupla))\n",
        "\n",
        "print(x,y,sep='-')"
      ],
      "metadata": {
        "colab": {
          "base_uri": "https://localhost:8080/"
        },
        "id": "KwXgS4-Hw8Lt",
        "outputId": "07683b86-7eda-4e24-cc77-fad310d93b7f"
      },
      "execution_count": null,
      "outputs": [
        {
          "output_type": "stream",
          "name": "stdout",
          "text": [
            "<class 'tuple'>\n",
            "<class 'tuple'>\n",
            "Python-Java-C#-C++-PHP-Python-Java-C#-C++-PHP\n"
          ]
        }
      ]
    },
    {
      "cell_type": "markdown",
      "source": [
        "ATIVIDADE 26- Escreva um programa em Python que aceite uma sequência de linguagens de programação separadas por espaços. O programa deve dividir essa sequência em uma lista de linguagens individuais e imprimir a lista resultante. Ao final imprimir o tipo da variável."
      ],
      "metadata": {
        "id": "EKclITO8zASL"
      }
    },
    {
      "cell_type": "code",
      "source": [
        "lista=\"Python Java C# C++ PHP\"\n",
        "print(lista.split())"
      ],
      "metadata": {
        "colab": {
          "base_uri": "https://localhost:8080/"
        },
        "id": "TmI5xZkpzI-G",
        "outputId": "865ae78c-ec00-4e12-956f-a5484181c0f1"
      },
      "execution_count": null,
      "outputs": [
        {
          "output_type": "stream",
          "name": "stdout",
          "text": [
            "['Python', 'Java', 'C#', 'C++', 'PHP']\n"
          ]
        }
      ]
    },
    {
      "cell_type": "markdown",
      "source": [
        "ATIVIDADE 27-Escreva um programa que solicite ao usuário para inserir uma palavra e imprima o número de caracteres na palavra, utilizando a função len().\n"
      ],
      "metadata": {
        "id": "PMQhSXcb3uYl"
      }
    },
    {
      "cell_type": "code",
      "source": [
        "n1=input(\"digite uma palavra: \")\n",
        "print(\"a sua palavra tem\",len(n1),\"caracteres.\")\n"
      ],
      "metadata": {
        "colab": {
          "base_uri": "https://localhost:8080/"
        },
        "id": "B8KUTCzy3xal",
        "outputId": "78aa34c2-bb04-4524-c544-76626a025324"
      },
      "execution_count": null,
      "outputs": [
        {
          "output_type": "stream",
          "name": "stdout",
          "text": [
            "digite uma palavra: Boa viagem\n",
            "a sua palavra tem 10 caracteres.\n"
          ]
        }
      ]
    },
    {
      "cell_type": "markdown",
      "source": [
        "ATIVIDADE 28-Crie um programa que receba a lista abaixo e imprima a linguaguem de programação: C++\n",
        "\n",
        " lista: [\"Python\", \"Java\", \"C#\", \"C++\", \"PHP\"]\n",
        "print(lista[índice])"
      ],
      "metadata": {
        "id": "lpKjWfVU6oWF"
      }
    },
    {
      "cell_type": "code",
      "source": [
        "lista=[\"Python\", \"Java\", \"C#\", \"C++\", \"PHP\"]\n",
        "print(lista[3])"
      ],
      "metadata": {
        "colab": {
          "base_uri": "https://localhost:8080/"
        },
        "id": "apTPtLJO6qhm",
        "outputId": "f5c81451-a54d-4a0f-b6c4-995a34bb722a"
      },
      "execution_count": null,
      "outputs": [
        {
          "output_type": "stream",
          "name": "stdout",
          "text": [
            "C++\n"
          ]
        }
      ]
    },
    {
      "cell_type": "markdown",
      "source": [
        "ATIVIDADE 29-Crie um programa que receba a tupla abaixo e imprima a linguem de programação: C++\n",
        "tupla: \"Python\", \"Java\", \"C#\", \"C++\", \"PHP\""
      ],
      "metadata": {
        "id": "sTfOrnbU9qMn"
      }
    },
    {
      "cell_type": "code",
      "source": [
        "tupla=\"Python\", \"Java\", \"C#\", \"C++\", \"PHP\"\n",
        "print(tupla[3])"
      ],
      "metadata": {
        "id": "pySyTTJi9srM"
      },
      "execution_count": null,
      "outputs": []
    },
    {
      "cell_type": "markdown",
      "source": [
        "ATIVIDADE 30-Escreva um programa em Python que utilize o método format() para formatar uma mensagem com informações pessoais. Você deve criar um dicionário chamado informacoes com as seguintes chaves e valores:\n",
        "Nome: \"Ana\"\n",
        "Idade: 35\n",
        "Cidade: \"São Paulo\"\n",
        "Em seguida, utilize o método format() para imprimir uma mensagem no seguinte formato: \"Olá, meu nome é [Nome], tenho [Idade] anos e moro em [Cidade].\", onde [Nome], [Idade] e [Cidade] são espaços reservados que devem ser substituídos pelas informações contidas no dicionário informacoes.\n",
        "Código Python que utiliza o método format() para formatar uma mensagem com informações pessoais.\n",
        "\n",
        "\n",
        "nome = \"João\"\n",
        "idade = 30\n",
        "\n",
        "# Utilizando format() para inserir valores em uma string\n",
        "mensagem = \"Olá, meu nome é {} e tenho {} anos.\".format(nome, idade)\n",
        "\n",
        "print(mensagem)"
      ],
      "metadata": {
        "id": "xuXthE8hDU6t"
      }
    },
    {
      "cell_type": "code",
      "source": [
        "escreva=\"informe os seus dados\"\n",
        "print(escreva)\n",
        "\n",
        "nome=(input(\"informe seu nome:\"))\n",
        "idade=int(input(\"informe sua idade:\"))\n",
        "cidade=(input(\"informe sua cidade:\"))\n",
        "\n",
        "print(\"Olá, meu nome é {}, tenho {} anos\".format(nome,idade))\n"
      ],
      "metadata": {
        "colab": {
          "base_uri": "https://localhost:8080/"
        },
        "id": "MdvyG0WyDXA9",
        "outputId": "0289db7a-8180-4ab8-8d54-d3e613b35233"
      },
      "execution_count": null,
      "outputs": [
        {
          "output_type": "stream",
          "name": "stdout",
          "text": [
            "informe os seus dados\n",
            "informe seu nome:Guilherme\\\n",
            "informe sua idade:17\n",
            "informe sua cidade:Brasilia\n",
            "Olá, meu nome é Guilherme\\, tenho 17 anos\n"
          ]
        }
      ]
    },
    {
      "cell_type": "markdown",
      "source": [
        "ATIVIDADE 31- Escreva um programa em Python que utilize o método format() para formatar uma mensagem com informações sobre um livro. Você deve criar variáveis para armazenar as seguintes informações:\n",
        "Título do livro: \"O Pequeno Príncipe\"\n",
        "Autor do livro: \"Antoine de Saint-Exupéry\"\n",
        "Ano de publicação: 1943\n",
        "Preço do livro (em reais): 39.90\n",
        "Em seguida, utilize o método format() para imprimir uma mensagem no seguinte formato: \"'{}' é um livro escrito por {}. Foi publicado em {} e custa R${}.\". Substitua os espaços reservados pelos valores correspondentes das variáveis."
      ],
      "metadata": {
        "id": "JunLlOMjFGQM"
      }
    },
    {
      "cell_type": "code",
      "source": [
        "titulo=\"O Pequeno Príncipe\"\n",
        "autor=\"Antoine de Saint-Exupéry\"\n",
        "ano=1943\n",
        "preço=39.90\n",
        "\n",
        "print(\"{} é um livro escrito por {}. Foi publicado em {} e custa R${}\".format(titulo,autor,ano,preço))\n"
      ],
      "metadata": {
        "colab": {
          "base_uri": "https://localhost:8080/"
        },
        "id": "p6YbcmG_FIeF",
        "outputId": "81bac1e8-fac0-4c05-fabc-78740249d028"
      },
      "execution_count": null,
      "outputs": [
        {
          "output_type": "stream",
          "name": "stdout",
          "text": [
            "O Pequeno Príncipe é um livro escrito por Antoine de Saint-Exupéry. Foi publicado em 1943 e custa R$39.9\n"
          ]
        }
      ]
    },
    {
      "cell_type": "markdown",
      "source": [
        "ATIVIDADE 32- Escreva um programa em Python que utilize o método format() para formatar uma mensagem com informações sobre um produto. Você deve criar variáveis para armazenar as seguintes informações:\n",
        "Nome do produto: \"Camiseta\"\n",
        "Preço do produto: R$29.99\n",
        "Quantidade disponível: 100\n",
        "Em seguida, utilize o método format() para imprimir uma mensagem no seguinte formato: \"Produto: [Nome], Preço: R$[Preço], Quantidade disponível: [Quantidade]. O valor total do estoque é R$[ValorEstoque].\", onde [Nome], [Preço] e [Quantidade] são espaços reservados que devem ser substituídos pelas informações corretas. Além disso, [ValorEstoque] representa o valor total do estoque, calculado multiplicando o preço pela quantidade disponível"
      ],
      "metadata": {
        "id": "-LL85GZc4bbM"
      }
    },
    {
      "cell_type": "code",
      "source": [
        "Nome=\"Camiseta\"\n",
        "Preço=29.99\n",
        "Quantidade=100\n",
        "ValorEstoque=(29.99*100)\n",
        "\n",
        "print(\"Produto:{}, Preço: R${}, Quantidade disponível: {}. O valor total do estoque é R${}.\".format(Nome,Preço,Quantidade,ValorEstoque))"
      ],
      "metadata": {
        "id": "sZLn_7qY4g6U",
        "colab": {
          "base_uri": "https://localhost:8080/"
        },
        "outputId": "3b53fae0-dcbf-4d08-e496-03a9ec00c29b"
      },
      "execution_count": null,
      "outputs": [
        {
          "output_type": "stream",
          "name": "stdout",
          "text": [
            "Produto:Camiseta, Preço: R$29.99, Quantidade disponível: 100. O valor total do estoque é R$2999.0.\n"
          ]
        }
      ]
    },
    {
      "cell_type": "markdown",
      "source": [
        "ATIVIDADE 33-Escreva um programa em Python que solicite ao usuário o valor de três notas de um aluno e utilize o método format() para imprimir a média das notas"
      ],
      "metadata": {
        "id": "XqxYcirn7n8M"
      }
    },
    {
      "cell_type": "code",
      "source": [
        "nota1=float(input(\"Digite a primeira nota: \"))\n",
        "nota2=float(input(\"Digite a segunda nota: \"))\n",
        "nota3=float(input(\"Digite a terceira nota: \"))\n",
        "\n",
        "media = (nota1 + nota2 + nota3) / 3\n",
        "\n",
        "print(\"A média das notas é: {:.2f}\".format(media))\n"
      ],
      "metadata": {
        "id": "zyGp7zE37qmy",
        "colab": {
          "base_uri": "https://localhost:8080/"
        },
        "outputId": "11546380-e7d7-421c-f1a8-c643567409fd"
      },
      "execution_count": null,
      "outputs": [
        {
          "output_type": "stream",
          "name": "stdout",
          "text": [
            "Digite a primeira nota: 6\n",
            "Digite a segunda nota: 7\n",
            "Digite a terceira nota: 6\n",
            "A média das notas é: 6.33\n"
          ]
        }
      ]
    },
    {
      "cell_type": "markdown",
      "source": [
        "ATIVIDADE 34- Peça ao usuário para inserir seu nome. Em seguida, use uma f-string para exibir uma mensagem de saudação personalizada."
      ],
      "metadata": {
        "id": "M2oK6aJe9Ag6"
      }
    },
    {
      "cell_type": "code",
      "source": [
        "nome=(input(\"digite seu nome: \"))\n",
        "print(f\"Seja bem-vindo {nome}\")"
      ],
      "metadata": {
        "id": "_Oy4tDUx9BkT",
        "colab": {
          "base_uri": "https://localhost:8080/"
        },
        "outputId": "f78722fd-5db3-4b91-a6bf-c165900d248c"
      },
      "execution_count": null,
      "outputs": [
        {
          "output_type": "stream",
          "name": "stdout",
          "text": [
            "digite seu nome: Guilherme\n",
            "Seja bem-vindo Guilherme\n"
          ]
        }
      ]
    },
    {
      "cell_type": "markdown",
      "source": [
        "ATIVIDADE 35- Peça ao usuário para inserir seu nome, idade e cidade. Em seguida, use uma f-string para exibir essas informações formatadas."
      ],
      "metadata": {
        "id": "neuHGqTTDsgF"
      }
    },
    {
      "cell_type": "code",
      "source": [
        "nome=(input(\"digite seu nome:\"))\n",
        "idade=(input(\"digite sua idade:\"))\n",
        "Cidade=(input(\"digite sua cidade:\"))\n",
        "\n",
        "print(f\"seu nome é: {nome}, sua idade: {idade} anos, sua cidade: {Cidade}\")"
      ],
      "metadata": {
        "colab": {
          "base_uri": "https://localhost:8080/"
        },
        "id": "UUYHhw-vDvFU",
        "outputId": "69726ec3-c09d-4b3f-88b3-6fada5240789"
      },
      "execution_count": null,
      "outputs": [
        {
          "output_type": "stream",
          "name": "stdout",
          "text": [
            "digite seu nome:Guilherme\n",
            "digite sua idade:17\n",
            "digite sua cidade:Brasilia\n",
            "seu nome é: Guilherme, sua idade: 17 anos, sua cidade: Brasilia\n"
          ]
        }
      ]
    },
    {
      "cell_type": "markdown",
      "source": [
        "ATIVIDADE 36- Você recebeu três variáveis contendo informações sobre uma pessoa:\n",
        "nome: uma string contendo o nome da pessoa.\n",
        "idade: um número inteiro representando a idade da pessoa.\n",
        "altura: um número decimal representando a altura da pessoa em metros.\n",
        "Sua tarefa é utilizar f-strings para criar uma mensagem formatada que contenha todas essas informações. A mensagem deve seguir o seguinte formato:\n",
        "\"Olá, meu nome é {nome}, eu tenho [idade] anos e minha altura é {altura} metros.\"\n",
        "Substitua {nome}, {idade} e {altura} pelos valores corretos das variáveis fornecidas.\n",
        "Após criar a mensagem, imprima-a na tela.\n"
      ],
      "metadata": {
        "id": "1JqSnfo6FZlE"
      }
    },
    {
      "cell_type": "code",
      "source": [
        "nome=(input(\"informe seu nome:\"))\n",
        "idade=int(input(\"informe sua idade:\"))\n",
        "altura=float(input(\"informe sua altura:\").replace(\",\",\".\"))\n",
        "\n",
        "print(f\"Olá, meu nome é {nome}, eu tenho {idade} anos e minha altura é {altura} metros.\")\n"
      ],
      "metadata": {
        "colab": {
          "base_uri": "https://localhost:8080/"
        },
        "id": "xeOKQcYzFc3C",
        "outputId": "b0006316-b502-466c-85c8-f1ab23e75531"
      },
      "execution_count": null,
      "outputs": [
        {
          "output_type": "stream",
          "name": "stdout",
          "text": [
            "informe seu nome:Guilherme\n",
            "informe sua idade:17\n",
            "informe sua altura:1.77\n",
            "Olá, meu nome é Guilherme, eu tenho 17 anos e minha altura é 1.77 metros.\n"
          ]
        }
      ]
    },
    {
      "cell_type": "markdown",
      "source": [
        "ATIVIDADE 37- Escreva um programa que utilize f-strings para criar uma mensagem formatada que exiba o nome do produto, seu preço unitário e a quantidade de unidades compradas. Em seguida, calcule o total a ser pago (preço unitário multiplicado pela quantidade) e inclua essa informação na mensagem."
      ],
      "metadata": {
        "id": "OggezpGqT9pt"
      }
    },
    {
      "cell_type": "code",
      "source": [
        "nome_produto = \"Fone de Ouvido\"\n",
        "preco_unitario = 125.00\n",
        "quantidade = 2\n",
        "\n",
        "total = preco_unitario * quantidade\n",
        "\n",
        "mensagem = (\n",
        "    f\"Produto: {nome_produto}\\n\"\n",
        "    f\"Preço Unitário: R${preco_unitario:.2f}\\n\"\n",
        "    f\"Quantidade: {quantidade}\\n\"\n",
        "    f\"Total a Pagar: R${total:.2f}\"\n",
        ")\n",
        "print(mensagem)\n"
      ],
      "metadata": {
        "colab": {
          "base_uri": "https://localhost:8080/"
        },
        "id": "6Lc3ajNPUBsu",
        "outputId": "c122839a-2c2c-4c07-ea1e-fd229339d6ae"
      },
      "execution_count": null,
      "outputs": [
        {
          "output_type": "stream",
          "name": "stdout",
          "text": [
            "Produto: Fone de Ouvido\n",
            "Preço Unitário: R$125.00\n",
            "Quantidade: 2\n",
            "Total a Pagar: R$250.00\n"
          ]
        }
      ]
    },
    {
      "cell_type": "markdown",
      "source": [
        "ATIVIDADE 38- Escreva um programa que solicite ao usuário para inserir dois números inteiros. O programa deve então verificar qual número é maior e imprimir uma mensagem correspondente."
      ],
      "metadata": {
        "id": "xpIXlmDkWA3O"
      }
    },
    {
      "cell_type": "code",
      "source": [
        "n1=int(input(\"Digite um número inteiro: \"))\n",
        "n2=int(input(\"Digite outro número inteiro: \"))\n",
        "\n",
        "if n1>n2:\n",
        "   print(f\"O primeiro número {n1} é maior que o segundo número {n2}.\")\n",
        "elif n1<n2:\n",
        "   print(f\"O segundo número {n2} é maior que o primeiro número {n1}.\")\n",
        "else :\n",
        "   print(f\"Os dois números {n1} e {n2} são iguais.\")\n"
      ],
      "metadata": {
        "colab": {
          "base_uri": "https://localhost:8080/"
        },
        "id": "5pHA-gGbWC7v",
        "outputId": "7a645faf-4b3c-4d6e-d016-c852461eca5e"
      },
      "execution_count": null,
      "outputs": [
        {
          "output_type": "stream",
          "name": "stdout",
          "text": [
            "Digite um número inteiro: 10\n",
            "Digite outro número inteiro: 9\n",
            "O primeiro número 10 é maior que o segundo número 9.\n"
          ]
        }
      ]
    },
    {
      "cell_type": "markdown",
      "source": [
        "ATIVIDADE 39- Escreva um programa em Python que verifique se um número é positivo."
      ],
      "metadata": {
        "id": "tC_JXTPscWRG"
      }
    },
    {
      "cell_type": "code",
      "source": [
        "n1=int(input(\"Digite um número: \"))\n",
        "\n",
        "if n1<0:\n",
        "    print(\"seu número é negativo\")\n",
        "elif n1>0:\n",
        "    print(\"seu número é positivo\")\n"
      ],
      "metadata": {
        "colab": {
          "base_uri": "https://localhost:8080/"
        },
        "id": "IHYSS0SucZWA",
        "outputId": "7e013d5c-2c33-49e7-b80d-119fa802b477"
      },
      "execution_count": null,
      "outputs": [
        {
          "output_type": "stream",
          "name": "stdout",
          "text": [
            "Digite um número: -99\n",
            "seu número é negativo\n"
          ]
        }
      ]
    },
    {
      "cell_type": "markdown",
      "source": [
        "ATIVIDADE 40-Crie um programa que determine se um número é par ou ímpar."
      ],
      "metadata": {
        "id": "agUY-3tkEZdV"
      }
    },
    {
      "cell_type": "code",
      "source": [
        "def numero_impar_ou_par(num1):\n",
        "    if num1%2==0:\n",
        "       return \"par\"\n",
        "    else:\n",
        "        return \"impar\"\n",
        "\n",
        "print(numero_impar_ou_par(3))\n"
      ],
      "metadata": {
        "colab": {
          "base_uri": "https://localhost:8080/"
        },
        "id": "IFrdHLlSEbSV",
        "outputId": "7a9b9c1c-dcfa-4e52-e53f-e60c246a53c3"
      },
      "execution_count": null,
      "outputs": [
        {
          "output_type": "stream",
          "name": "stdout",
          "text": [
            "impar\n"
          ]
        }
      ]
    },
    {
      "cell_type": "markdown",
      "source": [
        "ATIVIDADE 41- Crie um programa que verifique se uma pessoa pode votar com base em sua idade (idade >= 16)."
      ],
      "metadata": {
        "id": "dVuhbZKGG958"
      }
    },
    {
      "cell_type": "code",
      "source": [
        "id2=int(input(\"informe sua idade:\"))\n",
        "\n",
        "def id(idade):\n",
        "     if idade>=16:\n",
        "         return \"Pode votar\"\n",
        "     else:\n",
        "         return \"Não pode votar\"\n",
        "\n",
        "print(id(id2))\n",
        "\n"
      ],
      "metadata": {
        "colab": {
          "base_uri": "https://localhost:8080/"
        },
        "id": "hTws4nU-HATj",
        "outputId": "53aeb6a2-1ce6-42c5-d723-6eb43d81f50c"
      },
      "execution_count": null,
      "outputs": [
        {
          "output_type": "stream",
          "name": "stdout",
          "text": [
            "informe sua idade:17\n",
            "Pode votar\n"
          ]
        }
      ]
    },
    {
      "cell_type": "markdown",
      "source": [
        "ATIVIDADE 42-Escreva um programa que verifique se uma palavra está toda em letras maiúsculas."
      ],
      "metadata": {
        "id": "OdNj_fVWL2jc"
      }
    },
    {
      "cell_type": "code",
      "source": [
        "def verificar_maiusculas(palavra):\n",
        "\n",
        "    if palavra.isupper():\n",
        "        return True\n",
        "    else:\n",
        "        return False\n",
        "\n",
        "palavra = input(\"Digite uma palavra: \")\n",
        "\n",
        "if verificar_maiusculas(palavra):\n",
        "    print(\"A palavra está toda em letras maiúsculas.\")\n",
        "else:\n",
        "    print(\"A palavra não está toda em letras maiúsculas.\")\n"
      ],
      "metadata": {
        "colab": {
          "base_uri": "https://localhost:8080/"
        },
        "id": "7Vcm4Wa_L6hO",
        "outputId": "4fc68473-f50b-4bfc-9477-65364e3728f8"
      },
      "execution_count": null,
      "outputs": [
        {
          "output_type": "stream",
          "name": "stdout",
          "text": [
            "Digite uma palavra: HOJE\n",
            "A palavra está toda em letras maiúsculas.\n"
          ]
        }
      ]
    },
    {
      "cell_type": "markdown",
      "source": [
        "ATIVIDADE 43- Escreva um programa que solicite ao usuário para inserir um número e determine se é positivo, negativo ou zero\n",
        "  "
      ],
      "metadata": {
        "id": "TN4StEfrNjjs"
      }
    },
    {
      "cell_type": "code",
      "source": [
        "def verificar_positivo_negativo_zero(num1):\n",
        "    if num1>0:\n",
        "        return \"positivo\"\n",
        "    elif num1<0:\n",
        "        return \"negativo\"\n",
        "    else:\n",
        "        return\"zero\"\n",
        "\n",
        "num2=input(\"Digite um número: \")\n",
        "\n",
        "try:\n",
        "\n",
        "    numero = float(num2)\n",
        "\n",
        "    resultado = verificar_positivo_negativo_zero(numero)\n",
        "    print(f\"O número é {resultado}.\")\n",
        "except ValueError:\n",
        "    print(\"Por favor, insira um número válido.\")"
      ],
      "metadata": {
        "colab": {
          "base_uri": "https://localhost:8080/"
        },
        "id": "-KGipqM8Ni2F",
        "outputId": "49b035f7-2da8-4c91-9134-a1ce8f1e6973"
      },
      "execution_count": null,
      "outputs": [
        {
          "output_type": "stream",
          "name": "stdout",
          "text": [
            "Digite um número: 20\n",
            "O número é positivo.\n"
          ]
        }
      ]
    },
    {
      "cell_type": "markdown",
      "source": [
        "ATIVIDADE 44- Crie um programa que verifique se um palavra é um palíndromo(Igual, quando lida de trás para frente)."
      ],
      "metadata": {
        "id": "f5f5Nuh7aLbV"
      }
    },
    {
      "cell_type": "code",
      "source": [
        "def palindromo(palavra):\n",
        "    palavra = palavra.replace(\"\",\"\").lower()\n",
        "    return palavra == palavra[::-1]\n",
        "\n",
        "usuario=input(\"Digite uma palavra: \")\n",
        "\n",
        "if palindromo(usuario):\n",
        "   print(\"A palavra é um palindromo\")\n",
        "else:\n",
        "   print(\"A palavra não é um palindromo\"\"\")"
      ],
      "metadata": {
        "colab": {
          "base_uri": "https://localhost:8080/"
        },
        "id": "KBmC3hzlaNou",
        "outputId": "d8eda4b3-f8da-4242-9495-4ae7136824b9"
      },
      "execution_count": null,
      "outputs": [
        {
          "output_type": "stream",
          "name": "stdout",
          "text": [
            "Digite uma palavra: osso\n",
            "A palavra é um palindromo\n"
          ]
        }
      ]
    },
    {
      "cell_type": "markdown",
      "source": [
        "ATIVIDADE 45- Crie um programa que receba 4 notas de um aluno e calcule a média:\n"
      ],
      "metadata": {
        "id": "uSY4yKDpcNhQ"
      }
    },
    {
      "cell_type": "code",
      "source": [
        "def media_nota(nota1, nota2, nota3, nota4):\n",
        "    soma = nota1 + nota2 + nota3 + nota4\n",
        "    media = soma / 4\n",
        "    return media\n",
        "\n",
        "def main():\n",
        "    print(\"Digite as 4 notas:\")\n",
        "\n",
        "    try:\n",
        "        nota1 = float(input(\"Nota 1: \"))\n",
        "        nota2 = float(input(\"Nota 2: \"))\n",
        "        nota3 = float(input(\"Nota 3: \"))\n",
        "        nota4 = float(input(\"Nota 4: \"))\n",
        "\n",
        "        media = media_nota(nota1, nota2, nota3, nota4)\n",
        "\n",
        "        print(f\"A média das notas é: {media:.2f}\")\n",
        "\n",
        "    except ValueError:\n",
        "        print(\"Por favor, digite um número válido.\")\n",
        "\n",
        "if __name__ == \"__main__\":\n",
        "    main()\n"
      ],
      "metadata": {
        "colab": {
          "base_uri": "https://localhost:8080/"
        },
        "id": "BLs5KvzQcXnw",
        "outputId": "0c76ffa8-0a82-40b4-e2ff-599b1bdfe771"
      },
      "execution_count": null,
      "outputs": [
        {
          "output_type": "stream",
          "name": "stdout",
          "text": [
            "Digite as 4 notas:\n",
            "Nota 1: 10\n",
            "Nota 2: 5\n",
            "Nota 3: 3\n",
            "Nota 4: 7\n",
            "A média das notas é: 6.25\n"
          ]
        }
      ]
    },
    {
      "cell_type": "markdown",
      "source": [
        "ATIVIDADE 46-Escreva um programa em Python que determine se um número digitado pelo usuário é um número positivo e ímpar"
      ],
      "metadata": {
        "id": "ffwQ21BVmkSV"
      }
    },
    {
      "cell_type": "code",
      "source": [
        "def numero_impar_ou_par(num1):\n",
        "    if num1 >0 and num1 %2 !=0:\n",
        "        return True\n",
        "    else:\n",
        "        return False\n",
        "\n",
        "def main():\n",
        "    try:\n",
        "        num2=float(input(\"Digite um número:\"))\n",
        "\n",
        "        if numero_impar_ou_par(num2):\n",
        "            print(f\"O número {num2} é impar.\")\n",
        "        else:\n",
        "            print(f\"O número {num2} é par.\")\n",
        "\n",
        "    except ValueError:\n",
        "            print(\"Por favor, digite um número válido.\")\n",
        "\n",
        "if __name__ == \"__main__\":\n",
        "    main()\n"
      ],
      "metadata": {
        "colab": {
          "base_uri": "https://localhost:8080/"
        },
        "id": "XEkdQIm1mmbc",
        "outputId": "0b5ea1f2-a08f-422e-b330-657658f0a8aa"
      },
      "execution_count": null,
      "outputs": [
        {
          "output_type": "stream",
          "name": "stdout",
          "text": [
            "Digite um número:10\n",
            "O número 10.0 é par.\n"
          ]
        }
      ]
    },
    {
      "cell_type": "markdown",
      "source": [
        "ATIVIDADE 47-Escreva um programa que solicite ao usuário para informar três números, o programa deverá retornar qual é o maior deles.\n"
      ],
      "metadata": {
        "id": "1YBi8xcyuSvc"
      }
    },
    {
      "cell_type": "code",
      "source": [
        "def maior(num1, num2, num3):\n",
        "    return max(num1, num2, num3)\n",
        "\n",
        "def main():\n",
        "    try:\n",
        "        n1=float(input(\"Digite o primeiro número:\"))\n",
        "        n2=float(input(\"Digite o segundo número:\"))\n",
        "        n3=float(input(\"Digite o terceiro número:\"))\n",
        "\n",
        "        maior_numero=maior(n1,n2,n3)\\\n",
        "\n",
        "        print(f\"O maior número entre {n1}, {n2} e {n3} é {maior_numero:.2f}\")\n",
        "\n",
        "    except ValueError:\n",
        "        print(\"Por favor, digite números diferentes.\")\n",
        "\n",
        "if __name__ == \"__main__\":\n",
        "    main()\n"
      ],
      "metadata": {
        "colab": {
          "base_uri": "https://localhost:8080/"
        },
        "id": "ERE1YzMzubTf",
        "outputId": "45d42413-e282-4428-a9d6-8c92fe5ce221"
      },
      "execution_count": null,
      "outputs": [
        {
          "output_type": "stream",
          "name": "stdout",
          "text": [
            "Digite o primeiro número:10\n",
            "Digite o segundo número:100\n",
            "Digite o terceiro número:01\n",
            "O maior número entre 10.0, 100.0 e 1.0 é 100.00\n"
          ]
        }
      ]
    },
    {
      "cell_type": "markdown",
      "source": [
        "ATIVIDADE 48- Escreva um programa que conte de 1 a 10 usando um loop while e imprima cada número."
      ],
      "metadata": {
        "id": "ZVfHbwNwK_Jo"
      }
    },
    {
      "cell_type": "code",
      "source": [
        "i=1\n",
        "while i<=10:\n",
        "    print(i)\n",
        "\n",
        "    i+=1\n"
      ],
      "metadata": {
        "id": "z9dS-A2tLEu-",
        "colab": {
          "base_uri": "https://localhost:8080/"
        },
        "outputId": "ae901540-b9d1-4e6b-cec4-79e804a29024"
      },
      "execution_count": null,
      "outputs": [
        {
          "output_type": "stream",
          "name": "stdout",
          "text": [
            "1\n",
            "2\n",
            "3\n",
            "4\n",
            "5\n",
            "6\n",
            "7\n",
            "8\n",
            "9\n",
            "10\n"
          ]
        }
      ]
    },
    {
      "cell_type": "markdown",
      "source": [
        "ATIVIDADE 49- Escreva um programa faça a contagem regressiva de 1 a 10 usando um loop while e imprima cada número."
      ],
      "metadata": {
        "id": "B4qe7Nd3PhrG"
      }
    },
    {
      "cell_type": "code",
      "source": [
        "i=10\n",
        "while i>=1:\n",
        "    print(i)\n",
        "\n",
        "    i-=1"
      ],
      "metadata": {
        "id": "Uk0WiCHDPm41",
        "colab": {
          "base_uri": "https://localhost:8080/"
        },
        "outputId": "6779055e-7476-4040-e87c-41c56e4f36b2"
      },
      "execution_count": null,
      "outputs": [
        {
          "output_type": "stream",
          "name": "stdout",
          "text": [
            "10\n",
            "9\n",
            "8\n",
            "7\n",
            "6\n",
            "5\n",
            "4\n",
            "3\n",
            "2\n",
            "1\n"
          ]
        }
      ]
    },
    {
      "cell_type": "markdown",
      "source": [
        "ATIVIDADE 50- Escreva um programa que solicite ao usuário um número e depois imprima todos os números pares de 1 até esse número, usando um loop while"
      ],
      "metadata": {
        "id": "aVpbjipsWBs0"
      }
    },
    {
      "cell_type": "code",
      "source": [
        "n1=int(input(\"Digite um número: \"))\n",
        "\n",
        "i=1\n",
        "while i<=n1:\n",
        "    if i%2==0:\n",
        "        print(i)\n",
        "\n",
        "    i+=1"
      ],
      "metadata": {
        "colab": {
          "base_uri": "https://localhost:8080/"
        },
        "id": "8RWTSkrZWMYR",
        "outputId": "80070070-ab66-4bf7-b525-73f179b04030"
      },
      "execution_count": null,
      "outputs": [
        {
          "output_type": "stream",
          "name": "stdout",
          "text": [
            "Digite um número: 10\n",
            "2\n",
            "4\n",
            "6\n",
            "8\n",
            "10\n"
          ]
        }
      ]
    },
    {
      "cell_type": "markdown",
      "source": [
        "ATIVIDADE 51- Escreva um programa que solicite ao usuário um número e depois imprima todos os números pares de 1 até esse número, imprimir em ordem decresce, usando um loop while."
      ],
      "metadata": {
        "id": "QFe2aN2oWOir"
      }
    },
    {
      "cell_type": "code",
      "source": [
        "n1=int(input(\"Digite um número: \"))\n",
        "\n",
        "i=10\n",
        "while i>=1:\n",
        "    if i%2==0:\n",
        "        print(i)\n",
        "\n",
        "    i-=1"
      ],
      "metadata": {
        "colab": {
          "base_uri": "https://localhost:8080/"
        },
        "id": "V-UJQYE9WUgc",
        "outputId": "a529574d-e63c-4f3d-92ba-45a4eeda0157"
      },
      "execution_count": null,
      "outputs": [
        {
          "output_type": "stream",
          "name": "stdout",
          "text": [
            "Digite um número: 10\n",
            "10\n",
            "8\n",
            "6\n",
            "4\n",
            "2\n"
          ]
        }
      ]
    },
    {
      "cell_type": "markdown",
      "source": [
        "ATIVIDADE 52- Escreva um programa que imprima a tabuada de multiplicação de um número específico até 10, usando um loop while."
      ],
      "metadata": {
        "id": "mjxA1M06WWtj"
      }
    },
    {
      "cell_type": "code",
      "source": [
        "n1=int(input(\"Digite um número para ver sua tabuada: \"))\n",
        "\n",
        "contador=1\n",
        "\n",
        "while contador<=10:\n",
        "    resultado= n1*contador\n",
        "    print(f\"{n1} x {contador} = {resultado}\")\n",
        "\n",
        "    contador +=1"
      ],
      "metadata": {
        "colab": {
          "base_uri": "https://localhost:8080/"
        },
        "id": "6sdcE9G5WcOb",
        "outputId": "cdcc7cc4-353e-4371-ee06-7835ca2fb439"
      },
      "execution_count": null,
      "outputs": [
        {
          "output_type": "stream",
          "name": "stdout",
          "text": [
            "Digite um número para ver sua tabuada: 6\n",
            "6 x 1 = 6\n",
            "6 x 2 = 12\n",
            "6 x 3 = 18\n",
            "6 x 4 = 24\n",
            "6 x 5 = 30\n",
            "6 x 6 = 36\n",
            "6 x 7 = 42\n",
            "6 x 8 = 48\n",
            "6 x 9 = 54\n",
            "6 x 10 = 60\n"
          ]
        }
      ]
    },
    {
      "cell_type": "markdown",
      "source": [
        "ATIVIDADE 53- Escreva um programa que solicite ao usuário que insira uma senha correta e continue pedindo até que a senha correta seja inserida, usando um loop while."
      ],
      "metadata": {
        "id": "EpQRxntlWeUK"
      }
    },
    {
      "cell_type": "code",
      "source": [
        "senha=input(\"Por favor, crie uma senha: \")\n",
        "\n",
        "while True:\n",
        "    senha_inserida=input(\"Por favor, digite sua senha: \")\n",
        "\n",
        "    if senha_inserida==senha:\n",
        "        print(\"Senha correta!\")\n",
        "        break\n",
        "    else:\n",
        "        print(\"Senha incorreta!\")"
      ],
      "metadata": {
        "colab": {
          "base_uri": "https://localhost:8080/"
        },
        "id": "CauJ9ti7Wipy",
        "outputId": "209adeb4-6a7e-41c9-9d38-be242e7f9e81"
      },
      "execution_count": null,
      "outputs": [
        {
          "output_type": "stream",
          "name": "stdout",
          "text": [
            "Por favor, crie uma senha: Guizim1708\n",
            "Por favor, digite sua senha: Guizim1708\n",
            "Senha correta!\n"
          ]
        }
      ]
    },
    {
      "cell_type": "markdown",
      "source": [
        "ATIVIDADE 54- Escreva um programa que solicite ao usuário que insira números e calcule a soma desses números até que a soma ultrapasse um limite específico, usando um loop *while*"
      ],
      "metadata": {
        "id": "zNphLLo3WlkE"
      }
    },
    {
      "cell_type": "code",
      "source": [
        "limite=50\n",
        "soma=0\n",
        "\n",
        "print(\"Insira números para somar. A soma irá parar quando ultrapassar o limite de\", limite)\n",
        "\n",
        "while soma<=limite:\n",
        "    try:\n",
        "        numero=float(input(\"Digite um número: \"))\n",
        "        soma+=numero\n",
        "        print(f\"Soma atual: {soma}\")\n",
        "\n",
        "    except ValueError:\n",
        "        print(\"Por favor, insira um número válido.\")\n",
        "\n",
        "        print(\"A soma ultrapassou o limite de\", limite, \"e é igual a\", soma)\n",
        "\n"
      ],
      "metadata": {
        "colab": {
          "base_uri": "https://localhost:8080/"
        },
        "id": "FXPRMtgwWqn7",
        "outputId": "1c99bee3-ccca-4b1a-aab8-5ea2818d8b29"
      },
      "execution_count": null,
      "outputs": [
        {
          "output_type": "stream",
          "name": "stdout",
          "text": [
            "Insira números para somar. A soma irá parar quando ultrapassar o limite de 50\n",
            "Digite um número: 25\n",
            "Soma atual: 25.0\n",
            "Digite um número: 15\n",
            "Soma atual: 40.0\n",
            "Digite um número: 10\n",
            "Soma atual: 50.0\n",
            "Digite um número: 1\n",
            "Soma atual: 51.0\n"
          ]
        }
      ]
    },
    {
      "cell_type": "markdown",
      "source": [
        "ATIVIDADE 55-\n",
        " Imprima os números de 1 a 10.*texto em itálico*"
      ],
      "metadata": {
        "id": "Mdh7v-f1XOWT"
      }
    },
    {
      "cell_type": "code",
      "source": [
        "for i in range(1,11):\n",
        "    print(i)"
      ],
      "metadata": {
        "colab": {
          "base_uri": "https://localhost:8080/"
        },
        "id": "-Cy-weXadhFZ",
        "outputId": "85d5642a-188e-4e34-a80d-2fd90db7cec8"
      },
      "execution_count": null,
      "outputs": [
        {
          "output_type": "stream",
          "name": "stdout",
          "text": [
            "1\n",
            "2\n",
            "3\n",
            "4\n",
            "5\n",
            "6\n",
            "7\n",
            "8\n",
            "9\n",
            "10\n"
          ]
        }
      ]
    },
    {
      "cell_type": "markdown",
      "source": [
        "ATIVIDADE 56-\n",
        "Calcule a soma dos números de 1 a 100."
      ],
      "metadata": {
        "id": "9KvuQ5UDdhhx"
      }
    },
    {
      "cell_type": "code",
      "source": [
        "soma=sum(range(1,101))\n",
        "print(soma)"
      ],
      "metadata": {
        "colab": {
          "base_uri": "https://localhost:8080/"
        },
        "id": "16rYYIlpqjii",
        "outputId": "ae992fb9-3c04-44e1-a6a7-efca444aefca"
      },
      "execution_count": null,
      "outputs": [
        {
          "output_type": "stream",
          "name": "stdout",
          "text": [
            "5050\n"
          ]
        }
      ]
    },
    {
      "cell_type": "markdown",
      "source": [
        "ATIVIDADE 57-Imprima os números pares de 1 a 20.\n"
      ],
      "metadata": {
        "id": "5F2zDih_qlj6"
      }
    },
    {
      "cell_type": "code",
      "source": [
        "for i in range(0,21,2):\n",
        "    print(i)"
      ],
      "metadata": {
        "colab": {
          "base_uri": "https://localhost:8080/"
        },
        "id": "xHZTOn70quJh",
        "outputId": "6222ff9a-f2a0-46e6-bbdd-012421bbe914"
      },
      "execution_count": null,
      "outputs": [
        {
          "output_type": "stream",
          "name": "stdout",
          "text": [
            "0\n",
            "2\n",
            "4\n",
            "6\n",
            "8\n",
            "10\n",
            "12\n",
            "14\n",
            "16\n",
            "18\n",
            "20\n"
          ]
        }
      ]
    },
    {
      "cell_type": "markdown",
      "source": [
        "ATIVIDADE AVALIATIVA-Você foi desafiado a criar um jogo de adivinhação em Python. O jogo deve funcionar da seguinte maneira:\n",
        "O computador irá gerar aleatoriamente um número inteiro entre 1 e 100.\n",
        "O jogador terá que adivinhar qual é esse número.\n",
        "A cada tentativa, o computador informará se o número fornecido pelo jogador é maior ou menor que o número secreto.\n",
        "O jogo continuará até que o jogador adivinhe corretamente o número secreto.\n",
        "Importe a biblioteca random no início do seu programa. Você pode fazer isso usando o seguinte código: import random.\n",
        "Crie um loop para permitir que o jogador faça múltiplas tentativas até acertar o número secreto.\n",
        "Dentro do loop, compare o número fornecido pelo jogador com o número secreto e forneça feedback indicando se o número é maior, menor ou igual ao número secreto.\n",
        "Se o jogador acertar o número secreto, exiba uma mensagem de parabéns junto com o número de tentativas necessárias para acertar e utilize break para sair do loop.\n",
        "Após sair do loop, você pode exibir uma mensagem final ou realizar qualquer outra ação que desejar.\n",
        "Divirta-se e boa sorte!"
      ],
      "metadata": {
        "id": "u932etAu3eVj"
      }
    },
    {
      "cell_type": "code",
      "source": [
        "import random\n",
        "\n",
        "def numero_secreto():\n",
        "    n=random.randint(1,100)\n",
        "    tentativas=0\n",
        "    print(\"Advinhe o número: \")\n",
        "\n",
        "    while True:\n",
        "        palpite=int(input(\"Digite seu palpite:\"))\n",
        "        tentativas +=1\n",
        "        if  palpite<n:\n",
        "            print(\"Muito baixo!\")\n",
        "        elif palpite>n:\n",
        "            print(\"Muito alto!\")\n",
        "        else:\n",
        "            print(f\"Parabéns, você acertou em {tentativas} tentativas!\")\n",
        "            break\n",
        "\n",
        "numero_secreto()"
      ],
      "metadata": {
        "colab": {
          "base_uri": "https://localhost:8080/"
        },
        "id": "veKzHzuL3iRp",
        "outputId": "f2884b9f-a757-4369-9993-dd8b100d080e"
      },
      "execution_count": null,
      "outputs": [
        {
          "output_type": "stream",
          "name": "stdout",
          "text": [
            "Advinhe o número: \n",
            "Digite seu palpite:50\n",
            "Parabéns, você acertou em 1 tentativas!\n"
          ]
        }
      ]
    },
    {
      "cell_type": "markdown",
      "source": [
        "ATIVIDADE 58-Crie um programa que receba um número inteiro e retorne uma mensagem de erro, caso o usuário informe número fracionado ou letra."
      ],
      "metadata": {
        "id": "7kT23zaX_eUC"
      }
    },
    {
      "cell_type": "code",
      "source": [
        "soma=(print)\n",
        "print(\"Insira números para somar\")\n",
        "while soma:\n",
        "    try:\n",
        "        n1=int(input(\"Digite o primeiro número: \"))\n",
        "        n2=int(input(\"Digite o segundo número: \"))\n",
        "        print(\"O resultado da soma é:\", n1+n2)\n",
        "        break\n",
        "\n",
        "    except ValueError:\n",
        "        print(\"Por favor, insira um número válido.\")"
      ],
      "metadata": {
        "id": "GDNXNIqD_gsD"
      },
      "execution_count": null,
      "outputs": []
    }
  ]
}